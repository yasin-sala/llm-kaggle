{
 "cells": [
  {
   "cell_type": "code",
   "execution_count": 3,
   "id": "782f7b7c",
   "metadata": {},
   "outputs": [
    {
     "name": "stdout",
     "output_type": "stream",
     "text": [
      "Collecting kaggle\n",
      "  Downloading kaggle-1.6.14.tar.gz (82 kB)\n",
      "Requirement already satisfied: six>=1.10 in c:\\users\\panjereha2\\anaconda3\\lib\\site-packages (from kaggle) (1.15.0)\n",
      "Collecting certifi>=2023.7.22\n",
      "  Downloading certifi-2024.6.2-py3-none-any.whl (164 kB)\n",
      "Requirement already satisfied: python-dateutil in c:\\users\\panjereha2\\anaconda3\\lib\\site-packages (from kaggle) (2.8.1)\n",
      "Requirement already satisfied: requests in c:\\users\\panjereha2\\anaconda3\\lib\\site-packages (from kaggle) (2.25.1)\n",
      "Requirement already satisfied: tqdm in c:\\users\\panjereha2\\anaconda3\\lib\\site-packages (from kaggle) (4.59.0)\n",
      "Collecting python-slugify\n",
      "  Downloading python_slugify-8.0.4-py2.py3-none-any.whl (10 kB)\n",
      "Requirement already satisfied: urllib3 in c:\\users\\panjereha2\\anaconda3\\lib\\site-packages (from kaggle) (1.26.4)\n",
      "Requirement already satisfied: bleach in c:\\users\\panjereha2\\anaconda3\\lib\\site-packages (from kaggle) (3.3.0)\n",
      "Requirement already satisfied: webencodings in c:\\users\\panjereha2\\anaconda3\\lib\\site-packages (from bleach->kaggle) (0.5.1)\n",
      "Requirement already satisfied: packaging in c:\\users\\panjereha2\\anaconda3\\lib\\site-packages (from bleach->kaggle) (20.9)\n",
      "Requirement already satisfied: pyparsing>=2.0.2 in c:\\users\\panjereha2\\anaconda3\\lib\\site-packages (from packaging->bleach->kaggle) (2.4.7)\n",
      "Collecting text-unidecode>=1.3\n",
      "  Downloading text_unidecode-1.3-py2.py3-none-any.whl (78 kB)\n",
      "Requirement already satisfied: chardet<5,>=3.0.2 in c:\\users\\panjereha2\\anaconda3\\lib\\site-packages (from requests->kaggle) (4.0.0)\n",
      "Requirement already satisfied: idna<3,>=2.5 in c:\\users\\panjereha2\\anaconda3\\lib\\site-packages (from requests->kaggle) (2.10)\n",
      "Building wheels for collected packages: kaggle\n",
      "  Building wheel for kaggle (setup.py): started\n",
      "  Building wheel for kaggle (setup.py): finished with status 'done'\n",
      "  Created wheel for kaggle: filename=kaggle-1.6.14-py3-none-any.whl size=105123 sha256=70759ee997ff12c200786e9ddef1187d170f42a0b3e880e0cd159bf5b2621fb2\n",
      "  Stored in directory: c:\\users\\panjereha2\\appdata\\local\\pip\\cache\\wheels\\d8\\3e\\73\\d260c9da20f77c8b16dd363273733109776f728fe8af6017a3\n",
      "Successfully built kaggle\n",
      "Installing collected packages: text-unidecode, certifi, python-slugify, kaggle\n",
      "  Attempting uninstall: certifi\n",
      "    Found existing installation: certifi 2020.12.5\n",
      "    Uninstalling certifi-2020.12.5:\n",
      "      Successfully uninstalled certifi-2020.12.5\n",
      "Successfully installed certifi-2024.6.2 kaggle-1.6.14 python-slugify-8.0.4 text-unidecode-1.3\n"
     ]
    },
    {
     "name": "stderr",
     "output_type": "stream",
     "text": [
      "ERROR: pip's dependency resolver does not currently take into account all the packages that are installed. This behaviour is the source of the following dependency conflicts.\n",
      "conda-repo-cli 1.0.4 requires pathlib, which is not installed.\n",
      "anaconda-project 0.9.1 requires ruamel-yaml, which is not installed.\n"
     ]
    }
   ],
   "source": [
    "!pip install kaggle # here or in the terminal so you can use kaggle API"
   ]
  },
  {
   "cell_type": "code",
   "execution_count": null,
   "id": "7c2816c6",
   "metadata": {},
   "outputs": [],
   "source": [
    "# git\n",
    "# token \n",
    "# git status\n",
    "\n",
    "# git init\n",
    "!git add scedueling.ipynb\n",
    "!git commit add -m \"first commit\"\n",
    "#  !git config --global user.name \"yasin salajeghe\"\n",
    "#  !git config --global user.email yasin.salajegheh@gmail.com\n",
    "\n",
    "# git remote add origin https://github.com/yasin-sala/llm-kaggle.git\n",
    "# git branch -M main\n",
    "# git push -u origin main     need user + pass ==> email or username, token"
   ]
  }
 ],
 "metadata": {
  "kernelspec": {
   "display_name": "Python 3",
   "language": "python",
   "name": "python3"
  },
  "language_info": {
   "codemirror_mode": {
    "name": "ipython",
    "version": 3
   },
   "file_extension": ".py",
   "mimetype": "text/x-python",
   "name": "python",
   "nbconvert_exporter": "python",
   "pygments_lexer": "ipython3",
   "version": "3.8.8"
  }
 },
 "nbformat": 4,
 "nbformat_minor": 5
}
